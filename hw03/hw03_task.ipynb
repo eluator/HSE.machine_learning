{
 "cells": [
  {
   "cell_type": "markdown",
   "metadata": {
    "id": "-GeqjUsgn4HY"
   },
   "source": [
    "# Линейная регрессия\n",
    "__Суммарное количество баллов: 10__\n",
    "\n",
    "__Решение отправлять на `ml.course.practice@gmail.com`__\n",
    "\n",
    "__Тема письма: `[HSE][MS][ML][HW03] <ФИ>`, где вместо `<ФИ>` указаны фамилия и имя__"
   ]
  },
  {
   "cell_type": "code",
   "execution_count": 1,
   "metadata": {
    "id": "QmYMrZJGn4Hg"
   },
   "outputs": [],
   "source": [
    "from sklearn.datasets import make_blobs, make_moons\n",
    "from sklearn.model_selection import train_test_split\n",
    "from sklearn.preprocessing import StandardScaler\n",
    "import numpy as np\n",
    "import random\n",
    "import matplotlib.pyplot as plt\n",
    "import matplotlib\n",
    "import copy"
   ]
  },
  {
   "cell_type": "code",
   "execution_count": 2,
   "metadata": {},
   "outputs": [],
   "source": [
    "from gradient_check import check_layer_gradient, check_layer_param_gradient, check_model_gradient\n",
    "from layers import FullyConnectedLayer, l2_regularization\n",
    "from trainer import Trainer, Dataset\n",
    "from optim import SGD, MomentumSGD"
   ]
  },
  {
   "cell_type": "code",
   "execution_count": 3,
   "metadata": {
    "id": "l86n1A9Bn4Hj"
   },
   "outputs": [],
   "source": [
    "def read_data(path=\"boston.csv\"):\n",
    "    dataframe = np.genfromtxt(path, delimiter=\",\", skip_header=15)\n",
    "    np.random.seed(42)\n",
    "    np.random.shuffle(dataframe)\n",
    "    X = dataframe[:, :-1]\n",
    "    y = dataframe[:, -1]\n",
    "    return X, y"
   ]
  },
  {
   "cell_type": "code",
   "execution_count": 4,
   "metadata": {
    "id": "SIDuGR68n4Hj"
   },
   "outputs": [],
   "source": [
    "def generate_synthetic(size:int, dim=6, noise=0.1):\n",
    "    X = np.random.randn(size, dim)\n",
    "    w = np.random.randn(dim + 1)\n",
    "    noise = noise * np.random.randn(size)\n",
    "    y = X.dot(w[1:]) + w[0] + noise\n",
    "    return X, y"
   ]
  },
  {
   "cell_type": "markdown",
   "metadata": {
    "id": "KTQrXJM3n4Hk"
   },
   "source": [
    "### Задание 1 (1 балл)\n",
    "Для начала нужно понять, какую метрику для ошибки будем использовать. В нашем случае нам подойдет стандартная метрика MSE. Также чтобы оценить качество модели нам понадобится метрика $R^2$. Реализуйте обе эти метрики."
   ]
  },
  {
   "cell_type": "code",
   "execution_count": 5,
   "metadata": {
    "id": "MhFj_POqn4Hl"
   },
   "outputs": [],
   "source": [
    "from metrics import mse, r2"
   ]
  },
  {
   "cell_type": "markdown",
   "metadata": {
    "id": "wl6-3k-wn4Hm"
   },
   "source": [
    "### Задание 2 (3 балла)\n",
    "Теперь реализуем линейную регрессию при помощи явного решения задачи минимизации. \n",
    "\n",
    "#### Методы\n",
    "`fit(X, y)` - решает задачу минимизации $\\arg\\min_{w, b}\\sum ((w\\cdot x + b) - y)^2$. \n",
    "\n",
    "`predict(X)` - строит предсказание `y` для объектов из `X`."
   ]
  },
  {
   "cell_type": "code",
   "execution_count": 6,
   "metadata": {
    "id": "qZ5qQ1p3n4Hn"
   },
   "outputs": [],
   "source": [
    "class NormalLR:\n",
    "\n",
    "    def __init__(self):\n",
    "        self._weights = np.array = None\n",
    "        self._x = np.array = None\n",
    "        self._y = np.array = None\n",
    "\n",
    "        pass\n",
    "\n",
    "    def fit(self, X:np.ndarray, y:np.ndarray):\n",
    "        self._x = X.copy()\n",
    "        self._y = y.copy()\n",
    "        # a = np.array( [[1 for i in range(X.shape[0])], [1 for i in range(X.shape[1]+1)]] )\n",
    "        a = np.ones((X.shape[0], X.shape[1] + 1), dtype=X.dtype)\n",
    "        a[:, :-1] = X\n",
    "        x_T = np.transpose(a)\n",
    "        self._weights = np.linalg.inv(x_T @ a) @ x_T @ self._y\n",
    "\n",
    "        pass\n",
    "    \n",
    "    def predict(self, X:np.ndarray) -> np.ndarray:\n",
    "        a = np.ones((X.shape[0], X.shape[1] + 1), dtype=X.dtype)\n",
    "        a[:, :-1] = X\n",
    "\n",
    "        if self._weights is None:\n",
    "            RuntimeError(\"Error. regr wasn't fit\")\n",
    "        return a @ self._weights"
   ]
  },
  {
   "cell_type": "code",
   "execution_count": 7,
   "metadata": {
    "id": "Qg5BqJPAn4Hn"
   },
   "outputs": [],
   "source": [
    "X, y = generate_synthetic(1024)\n",
    "X_train, X_test, y_train, y_test = train_test_split(X, y, train_size=0.8)"
   ]
  },
  {
   "cell_type": "code",
   "execution_count": 8,
   "metadata": {
    "id": "dyB5sun8n4Ho"
   },
   "outputs": [
    {
     "name": "stdout",
     "output_type": "stream",
     "text": [
      "MSE: (1.8811408840619013, array([ 8.00470746e-04, -3.95894291e-04,  2.39373187e-04,  1.00813190e-03,\n",
      "        6.35228228e-05,  1.97564934e-05, -7.10354451e-04, -8.47714222e-04,\n",
      "        4.67542559e-04,  9.03969728e-04, -9.26176004e-04,  3.17367474e-04,\n",
      "       -1.27116648e-03,  4.94204053e-04, -1.51046087e-03,  1.01720601e-03,\n",
      "       -9.95078916e-05, -5.45742809e-04,  9.89282928e-05,  3.22200456e-03,\n",
      "       -6.81325545e-04,  1.47969713e-03,  5.13114853e-04, -5.68861547e-04,\n",
      "        1.43766699e-04,  2.51075539e-03, -1.67851051e-04, -1.64782425e-04,\n",
      "       -1.97740481e-03,  9.55764482e-04,  1.47370610e-03, -5.84530075e-04,\n",
      "        4.88498561e-05,  1.81020385e-03,  8.88638518e-04, -5.11568225e-04,\n",
      "        6.74613036e-04, -6.72965112e-04,  1.22904340e-03,  1.46211364e-03,\n",
      "        1.55229066e-03, -4.10710600e-04, -2.23515812e-03,  1.10514569e-03,\n",
      "       -7.16618447e-04,  6.93815771e-04, -1.44126265e-03,  1.20108233e-03,\n",
      "       -6.06999951e-04,  1.22000011e-03,  4.33020866e-04,  1.03079036e-03,\n",
      "        2.38569560e-04,  3.58752583e-04,  3.93570605e-04, -1.11458642e-03,\n",
      "        4.86280289e-04, -5.46732315e-04,  1.14749351e-03, -5.87186630e-04,\n",
      "        5.34103651e-04,  6.47840428e-04,  5.62216092e-04,  1.11062461e-03,\n",
      "        8.34368841e-07, -1.46528779e-03, -9.18083807e-04, -4.25712119e-04,\n",
      "       -5.32652070e-04, -3.58311202e-04, -7.86749018e-04,  5.09114547e-04,\n",
      "       -2.57927528e-04,  1.24340343e-03,  2.03649270e-03, -9.14598315e-04,\n",
      "       -2.86277238e-04,  5.22298795e-04,  1.10024443e-03,  9.38350728e-04,\n",
      "       -3.42703572e-04,  1.64620025e-03,  5.43645025e-04,  1.48384308e-03,\n",
      "        7.90649576e-04,  1.45477693e-04, -4.77848138e-04,  1.72386699e-04,\n",
      "        1.03822009e-05,  3.81990733e-04, -2.33439455e-04,  1.12971499e-03,\n",
      "       -4.53047147e-04,  7.36419955e-04,  9.62360529e-04, -4.71394755e-04,\n",
      "        1.29839504e-03, -1.72514642e-03, -1.18372203e-03,  3.28492725e-04,\n",
      "       -1.99744006e-04, -9.82952321e-04, -1.31591909e-03, -1.05581832e-03,\n",
      "        3.30154030e-04, -3.71929940e-05,  1.92952166e-03, -1.60977761e-03,\n",
      "        1.72841236e-04,  7.89667939e-04,  1.43336353e-03,  1.43961267e-03,\n",
      "        4.51265591e-04, -6.86577206e-05,  5.50162341e-04, -5.31495103e-05,\n",
      "        7.47854624e-04,  5.18586718e-04,  1.54383972e-03, -3.31589679e-04,\n",
      "        9.83990213e-04,  3.11567008e-04,  5.12183102e-04,  5.82271841e-04,\n",
      "       -3.40105330e-04, -1.21875257e-03,  5.40416155e-04,  7.84499901e-04,\n",
      "       -1.12641294e-03,  4.86255330e-04, -7.24133407e-04,  6.84670866e-04,\n",
      "        3.60404981e-04, -1.56286469e-03, -1.82263536e-03, -1.83761439e-03,\n",
      "       -9.11483384e-05,  1.63820415e-04, -4.94081807e-04, -3.69341575e-04,\n",
      "       -1.04965666e-03, -1.04453477e-03, -1.91920722e-04, -5.34260833e-04,\n",
      "       -1.13660587e-03,  1.22200135e-03, -5.24054143e-04, -2.36239640e-04,\n",
      "        5.93525332e-04, -4.29783151e-04, -1.65794707e-04, -2.56448998e-04,\n",
      "       -2.94865248e-05, -6.58783670e-04,  2.14448163e-04, -6.74330746e-04,\n",
      "       -4.55599316e-04, -6.47422344e-04,  1.03245161e-03,  1.33844856e-03,\n",
      "        1.06592901e-03, -8.84340597e-04,  3.46682659e-04, -1.48076039e-03,\n",
      "       -3.32009221e-04,  2.09442463e-04,  5.89306619e-04,  1.52704545e-04,\n",
      "       -5.54984302e-04, -9.95056775e-04,  2.97902097e-04,  6.37850910e-04,\n",
      "       -6.10659927e-04,  1.13856472e-03, -3.96898525e-04,  1.09539142e-03,\n",
      "       -7.70655962e-04, -1.02641033e-03, -5.07470629e-04, -7.17270109e-04,\n",
      "        1.25348526e-03, -1.05291573e-03, -3.82559352e-04, -1.24522554e-03,\n",
      "        6.68964724e-04,  1.70748979e-03,  1.01117359e-03,  1.49581645e-03,\n",
      "       -4.40258643e-04, -1.18279820e-03, -3.72944200e-04, -1.19850954e-03,\n",
      "       -1.24161918e-03,  5.54810970e-05,  7.31584047e-04,  7.96188739e-04,\n",
      "        9.62155375e-05, -1.01409199e-04, -5.64459873e-04, -7.14633698e-04,\n",
      "       -8.94512731e-04, -1.09857504e-04, -5.84991932e-04, -1.21979547e-04,\n",
      "       -1.91803957e-03])), R2: -1.0849920371495472\n"
     ]
    }
   ],
   "source": [
    "regr = NormalLR()\n",
    "regr.fit(X_train, y_train)\n",
    "y_pred = regr.predict(X_test)\n",
    "print(f\"MSE: {mse(y_test, y_pred)}, R2: {r2(y_test, y_pred)}\")"
   ]
  },
  {
   "cell_type": "markdown",
   "metadata": {
    "id": "AQ9rFp-gn4Hp"
   },
   "source": [
    "### Задание 3 (2 балла)\n",
    "Теперь реализуем линейную регрессию с использованием градиентного спуска с larning rate `alpha` в течении `iterations` итераций. В задании необходимо использовать регуляризацию Лассо с коэффициентом `l`.\n",
    "\n",
    "#### Методы\n",
    "`fit(X, y)` - приближает решение задачи минимизации $\\arg\\min_{w, b}\\sum ((w\\cdot x + b) - y)^2$ при помощи градиентного спуска. \n",
    "\n",
    "\n",
    "`predict(X)` - строит предсказание `y` для объектов из `X`."
   ]
  },
  {
   "cell_type": "code",
   "execution_count": 7,
   "metadata": {
    "id": "eYzw2-dcn4Hq"
   },
   "outputs": [],
   "source": [
    "class GradientLR:\n",
    "    def __init__(self, n_input, n_output, alpha: float, iterations=10000, l=0.):\n",
    "        self.model = FullyConnectedLayer(n_input=n_input, n_output=n_output);\n",
    "        self.batch_size = 100\n",
    "        self.num_epochs = int(iterations / self.batch_size)\n",
    "        self.alpha = alpha\n",
    "        self.reg = l\n",
    "\n",
    "    def compute_loss_and_gradients(self, X, y):\n",
    "        \"\"\"\n",
    "        Computes total loss and updates parameter gradients\n",
    "        on a batch of training examples\n",
    "\n",
    "        Arguments:\n",
    "        X, np array (batch_size, input_features) - input data\n",
    "        y, np array of int (batch_size) - classes\n",
    "        \"\"\"\n",
    "        # Before running forward and backward pass through the model,\n",
    "        # clear parameter gradients aggregated from the previous pass\n",
    "        # TODO Set parameter gradient to zeros\n",
    "        # Hint: using self.params() might be useful!\n",
    "        for param in self.params():\n",
    "            self.params()[param].grad = np.zeros_like(self.params()[param].grad);\n",
    "\n",
    "        # TODO Compute loss and fill param gradients\n",
    "        # by running forward and backward passes through the model\n",
    "\n",
    "        X1 = self.model.forward(X);\n",
    "\n",
    "        loss, dX1 = mse(y, X1);\n",
    "        dX = self.model.backward(dX1);\n",
    "\n",
    "        # After that, implement l2 regularization on all params\n",
    "        # Hint: self.params() is useful again!\n",
    "        for param in self.params():\n",
    "            if (param[0] == 'W'):\n",
    "                loss_, grad_ = l2_regularization(self.params()[param].value, self.reg);\n",
    "                self.params()[param].grad += grad_;\n",
    "                loss += loss_;\n",
    "        return loss\n",
    "\n",
    "    def fit(self, X: np.ndarray, y: np.ndarray):\n",
    "        train_X, val_X, train_y, val_y = train_test_split(X, y, train_size=0.8, shuffle=True)\n",
    "        dataset = Dataset(train_X, train_y, val_X, val_y);\n",
    "        trainer = Trainer(self, dataset, SGD(), accuracy=r2, num_epochs=self.num_epochs,\n",
    "                          batch_size=self.batch_size, learning_rate=self.alpha, learning_rate_decay=1.0);\n",
    "\n",
    "        # TODO Implement missing pieces in Trainer.fit function\n",
    "        # You should expect loss to go down and train and val accuracy go up for every epoch\n",
    "        loss_history, train_history, val_history = trainer.fit()\n",
    "        return loss_history, train_history, val_history\n",
    "\n",
    "    def predict(self, X: np.ndarray):\n",
    "        return self.model.forward(X)\n",
    "\n",
    "    def params(self):\n",
    "        return self.model.params()"
   ]
  },
  {
   "cell_type": "code",
   "execution_count": 8,
   "metadata": {
    "id": "NcfjGBREn4Hq"
   },
   "outputs": [],
   "source": [
    "def build_plot(train_X, train_y, test_X, test_y):\n",
    "    xs = np.arange(0.0, 0.002, 0.00002)\n",
    "    errors = []\n",
    "    for x in xs:\n",
    "        regr = GradientLR(train_X.shape[1], train_y.shape[1] if len(train_y.shape) > 1 else 1, 0.1, iterations=10000, l=x)\n",
    "        regr.fit(train_X, train_y)\n",
    "        errors.append(mse(test_y, regr.predict(test_X))[0])\n",
    "    plt.figure(figsize=(9, 4))\n",
    "    plt.xlim(xs[0], xs[-1])\n",
    "    plt.grid()\n",
    "    plt.plot(xs, errors)\n",
    "    plt.show()"
   ]
  },
  {
   "cell_type": "code",
   "execution_count": 12,
   "metadata": {
    "id": "ZQ8txzZdn4Hr"
   },
   "outputs": [],
   "source": [
    "X, y = generate_synthetic(1024)\n",
    "y = np.reshape(y, (len(y), -1))\n",
    "X, X_val, y, y_val = train_test_split(X, y, train_size=0.9, shuffle=True)\n",
    "X_train, X_test, y_train, y_test = train_test_split(X, y, train_size=0.8, shuffle=True)"
   ]
  },
  {
   "cell_type": "code",
   "execution_count": 13,
   "metadata": {
    "id": "z7QFa1czn4Hs"
   },
   "outputs": [
    {
     "name": "stdout",
     "output_type": "stream",
     "text": [
      "MSE: (2.0014647887806456, array([[ 6.05089674e-04],\n",
      "       [-5.22277604e-04],\n",
      "       [ 5.77439693e-04],\n",
      "       [ 3.03075834e-04],\n",
      "       [ 1.30599272e-03],\n",
      "       [ 3.02758266e-04],\n",
      "       [ 1.34919699e-03],\n",
      "       [ 1.70356499e-03],\n",
      "       [ 9.58841279e-04],\n",
      "       [ 4.78874566e-05],\n",
      "       [ 9.38036947e-04],\n",
      "       [ 1.04177834e-03],\n",
      "       [-4.88868887e-04],\n",
      "       [ 1.35244430e-03],\n",
      "       [ 7.46763712e-04],\n",
      "       [ 1.00426222e-03],\n",
      "       [-8.87596381e-04],\n",
      "       [ 1.83948453e-03],\n",
      "       [ 7.65259288e-06],\n",
      "       [ 9.17356709e-04],\n",
      "       [ 4.81342484e-04],\n",
      "       [ 7.34131328e-04],\n",
      "       [ 1.89948283e-03],\n",
      "       [ 1.56036046e-03],\n",
      "       [-1.12206744e-03],\n",
      "       [-9.37914097e-05],\n",
      "       [ 1.30716288e-03],\n",
      "       [ 2.42583776e-04],\n",
      "       [-1.13685794e-03],\n",
      "       [ 1.75629605e-03],\n",
      "       [-1.25880128e-03],\n",
      "       [-1.19985900e-04],\n",
      "       [-5.90910449e-04],\n",
      "       [-9.00584219e-04],\n",
      "       [ 2.03488172e-03],\n",
      "       [-5.87979568e-04],\n",
      "       [ 1.13881698e-03],\n",
      "       [ 2.31621903e-03],\n",
      "       [ 7.53460924e-04],\n",
      "       [ 7.79509345e-04],\n",
      "       [ 9.49321964e-04],\n",
      "       [ 3.63058568e-03],\n",
      "       [-1.79998861e-03],\n",
      "       [-2.51652169e-04],\n",
      "       [-8.90993756e-05],\n",
      "       [ 5.90697934e-04],\n",
      "       [-5.16816977e-04],\n",
      "       [-1.55810974e-03],\n",
      "       [ 1.25062789e-03],\n",
      "       [ 5.57839860e-04],\n",
      "       [ 2.11586607e-03],\n",
      "       [-3.45017475e-04],\n",
      "       [-3.25853489e-04],\n",
      "       [ 4.07587327e-06],\n",
      "       [ 3.20573952e-03],\n",
      "       [ 1.84020522e-03],\n",
      "       [-4.45397234e-04],\n",
      "       [ 4.69676865e-04],\n",
      "       [ 9.93282506e-04],\n",
      "       [-8.18240345e-04],\n",
      "       [ 1.78661349e-03],\n",
      "       [-6.90066365e-04],\n",
      "       [ 5.33998084e-04],\n",
      "       [ 8.43058489e-04],\n",
      "       [ 2.19706765e-03],\n",
      "       [ 4.83436137e-05],\n",
      "       [-4.65797561e-04],\n",
      "       [ 2.83482986e-03],\n",
      "       [ 1.91690794e-03],\n",
      "       [-6.88419384e-04],\n",
      "       [-3.76426206e-04],\n",
      "       [ 5.78841958e-04],\n",
      "       [-6.21176941e-04],\n",
      "       [-1.80146882e-04],\n",
      "       [ 3.00160614e-04],\n",
      "       [ 4.63377637e-04],\n",
      "       [ 5.84637468e-04],\n",
      "       [ 3.58474656e-04],\n",
      "       [ 4.27406231e-04],\n",
      "       [-6.91844238e-04],\n",
      "       [-6.57229774e-04],\n",
      "       [-6.09719397e-04],\n",
      "       [-5.73060623e-05],\n",
      "       [ 8.81708592e-04],\n",
      "       [ 1.69620667e-05],\n",
      "       [ 4.04988787e-04],\n",
      "       [-7.87343072e-04],\n",
      "       [-1.33227809e-03],\n",
      "       [-1.63512083e-03],\n",
      "       [ 1.20409722e-03],\n",
      "       [ 9.16188306e-04],\n",
      "       [ 9.88772987e-04],\n",
      "       [ 1.48360166e-03],\n",
      "       [ 1.24124384e-03],\n",
      "       [ 2.33967548e-04],\n",
      "       [ 2.64497852e-05],\n",
      "       [ 2.05112910e-03],\n",
      "       [-7.98564454e-05],\n",
      "       [ 3.31370831e-04],\n",
      "       [ 3.34641220e-05],\n",
      "       [ 3.23381614e-04],\n",
      "       [-4.58676516e-04],\n",
      "       [ 2.35617315e-03],\n",
      "       [-3.78174411e-04],\n",
      "       [ 1.07911623e-03],\n",
      "       [ 4.15538377e-04],\n",
      "       [ 3.79185774e-04],\n",
      "       [ 1.73800071e-03],\n",
      "       [ 2.23481965e-04],\n",
      "       [-1.12228445e-03],\n",
      "       [-1.76345046e-03],\n",
      "       [-1.26565287e-03],\n",
      "       [-5.69706174e-04],\n",
      "       [-7.46946415e-05],\n",
      "       [-2.86785498e-05],\n",
      "       [-1.92456912e-03],\n",
      "       [-1.00634831e-03],\n",
      "       [ 1.80064995e-04],\n",
      "       [ 1.12121677e-03],\n",
      "       [ 1.63311851e-03],\n",
      "       [ 1.74692600e-03],\n",
      "       [-1.00861358e-04],\n",
      "       [ 2.24731954e-03],\n",
      "       [ 6.88885989e-04],\n",
      "       [ 9.82483638e-04],\n",
      "       [-1.03333703e-03],\n",
      "       [-9.79882857e-04],\n",
      "       [-5.46003558e-04],\n",
      "       [ 8.57686162e-04],\n",
      "       [-8.41572524e-05],\n",
      "       [-5.26117487e-05],\n",
      "       [-1.11336183e-04],\n",
      "       [ 1.06587157e-03],\n",
      "       [ 6.65503800e-04],\n",
      "       [ 2.29892504e-03],\n",
      "       [-1.33434153e-03],\n",
      "       [ 2.75019136e-04],\n",
      "       [ 9.54652239e-04],\n",
      "       [-2.41636410e-04],\n",
      "       [ 1.35518030e-03],\n",
      "       [ 6.52449857e-04],\n",
      "       [ 1.05445372e-03],\n",
      "       [ 7.38252592e-04],\n",
      "       [-5.48667753e-04],\n",
      "       [ 1.52937784e-03],\n",
      "       [ 2.04427974e-03],\n",
      "       [-2.02271622e-04],\n",
      "       [ 8.10725262e-04],\n",
      "       [ 8.84076825e-04],\n",
      "       [-5.58449011e-04],\n",
      "       [ 4.48929702e-04],\n",
      "       [ 1.00498991e-03],\n",
      "       [-1.88231342e-04],\n",
      "       [ 1.16546304e-03],\n",
      "       [-9.21902839e-05],\n",
      "       [ 6.16249904e-04],\n",
      "       [ 4.55683936e-04],\n",
      "       [ 6.32097864e-04],\n",
      "       [ 1.51252008e-03],\n",
      "       [ 1.07106599e-03],\n",
      "       [-1.46371592e-03],\n",
      "       [-6.87213076e-05],\n",
      "       [-1.39782035e-03],\n",
      "       [ 4.43591936e-04],\n",
      "       [ 2.23838259e-03],\n",
      "       [-4.11418147e-04],\n",
      "       [ 1.71738829e-03],\n",
      "       [-2.06988713e-03],\n",
      "       [ 1.66401396e-04],\n",
      "       [ 9.14099434e-05],\n",
      "       [-3.85989421e-04],\n",
      "       [ 4.88864299e-04],\n",
      "       [ 7.12162997e-04],\n",
      "       [ 6.14694407e-04],\n",
      "       [-5.62871587e-04],\n",
      "       [ 2.18277515e-03],\n",
      "       [ 2.64695867e-04],\n",
      "       [ 6.42964142e-04],\n",
      "       [-2.47428695e-04],\n",
      "       [-9.79846668e-04],\n",
      "       [-2.13318948e-03],\n",
      "       [-2.70015494e-04],\n",
      "       [ 5.08685814e-04],\n",
      "       [-1.50198375e-03],\n",
      "       [-1.06468933e-03]])), R2: 15.264052466152275\n"
     ]
    }
   ],
   "source": [
    "regr = GradientLR(X_train.shape[1], y_train.shape[1] if len(y_train.shape) > 1 else 1, 0.1, iterations=10000)\n",
    "regr.fit(X_train, y_train)\n",
    "y_pred = regr.predict(X_test)\n",
    "print(f\"MSE: {mse(y_test, y_pred)}, R2: {r2(y_test, y_pred)}\")"
   ]
  },
  {
   "cell_type": "code",
   "execution_count": 14,
   "metadata": {
    "id": "siP8OKLRn4Ht"
   },
   "outputs": [
    {
     "data": {
      "image/png": "[encoded data removed]",
      "text/plain": [
       "<Figure size 648x288 with 1 Axes>"
      ]
     },
     "metadata": {
      "needs_background": "light"
     },
     "output_type": "display_data"
    }
   ],
   "source": [
    "build_plot(X_train, y_train, X_val, y_val)"
   ]
  },
  {
   "cell_type": "markdown",
   "metadata": {
    "id": "UmjSHt9rn4Ht"
   },
   "source": [
    "### Задание 4 (2 балла)\n",
    "Протесируйте оба метода на данных `boston.csv`, для градиентного спуска постройте график зависимости ошибки от коэффициента регуляризации. "
   ]
  },
  {
   "cell_type": "code",
   "execution_count": 9,
   "metadata": {
    "id": "dk2TeC7Hn4Hu"
   },
   "outputs": [],
   "source": [
    "X, y = read_data()\n",
    "X_train, X_val, y_train, y_val = train_test_split(X, y, train_size=0.8, shuffle=False)"
   ]
  },
  {
   "cell_type": "code",
   "execution_count": null,
   "metadata": {},
   "outputs": [],
   "source": [
    "regr = NormalLR()\n",
    "regr.fit(X_train, y_train)\n",
    "y_pred = regr.predict(X_val)\n",
    "print(f\"MSE: {mse(y_val, y_pred)}, R2: {r2(y_val, y_pred)}\")"
   ]
  },
  {
   "cell_type": "code",
   "execution_count": 12,
   "metadata": {},
   "outputs": [],
   "source": [
    "y_train = np.reshape(y_train, (len(y_train), -1))\n",
    "y_val = np.reshape(y_val, (len(y_val), -1))"
   ]
  },
  {
   "cell_type": "code",
   "execution_count": null,
   "metadata": {},
   "outputs": [],
   "source": [
    "build_plot(X_train, y_train, X_val, y_val)"
   ]
  },
  {
   "cell_type": "code",
   "execution_count": null,
   "metadata": {},
   "outputs": [],
   "source": [
    "regr = GradientLR(X_train.shape[1], y_train.shape[1] if len(y_train.shape) > 1 else 1, 0.1, iterations=10000)\n",
    "regr.fit(X_train, y_train)\n",
    "y_pred = regr.predict(X_val)\n",
    "print(f\"MSE: {mse(y_val, y_pred)}, R2: {r2(y_val, y_pred)}\")"
   ]
  },
  {
   "cell_type": "markdown",
   "metadata": {
    "id": "d63Ei1yEn4Hw"
   },
   "source": [
    "### Задание 5 (2 балла)\n",
    "Проинтерпритируйте полученные результаты. Опишите влияние каждого признака на результат предсказания."
   ]
  },
  {
   "cell_type": "code",
   "execution_count": null,
   "metadata": {
    "id": "19Ci6i5Wn4Hw"
   },
   "outputs": [],
   "source": []
  }
 ],
 "metadata": {
  "colab": {
   "collapsed_sections": [],
   "name": "hw3_task.ipynb",
   "provenance": []
  },
  "kernelspec": {
   "display_name": "Python 3 (ipykernel)",
   "language": "python",
   "name": "python3"
  },
  "language_info": {
   "codemirror_mode": {
    "name": "ipython",
    "version": 3
   },
   "file_extension": ".py",
   "mimetype": "text/x-python",
   "name": "python",
   "nbconvert_exporter": "python",
   "pygments_lexer": "ipython3",
   "version": "3.8.10"
  }
 },
 "nbformat": 4,
 "nbformat_minor": 1
}
